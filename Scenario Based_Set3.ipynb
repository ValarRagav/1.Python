{
 "cells": [
  {
   "cell_type": "code",
   "execution_count": 9,
   "metadata": {},
   "outputs": [
    {
     "name": "stdout",
     "output_type": "stream",
     "text": [
      "Enter you value:0\n",
      "Kindly enter valid integer\n"
     ]
    }
   ],
   "source": [
    "value=int(input(\"Enter you value:\"))\n",
    "if(num!=int(value)):\n",
    "    print(\"Kindly enter valid integer\")\n",
    "else:\n",
    "    print(\"Please proceed\")"
   ]
  },
  {
   "cell_type": "code",
   "execution_count": 28,
   "metadata": {},
   "outputs": [
    {
     "name": "stdout",
     "output_type": "stream",
     "text": [
      "The most frequently occurring number is 23 with 3 occurrences.\n"
     ]
    }
   ],
   "source": [
    "from collections import Counter\n",
    "li=[23,45,23,12,23]\n",
    "f=Counter(li)\n",
    "answer = f.most_common(1)[0]\n",
    "print(f\"The most frequently occurring number is {most_common[0]} with {most_common[1]} occurrences.\")\n"
   ]
  },
  {
   "cell_type": "code",
   "execution_count": 37,
   "metadata": {},
   "outputs": [
    {
     "name": "stdout",
     "output_type": "stream",
     "text": [
      "Enter:vihanna\n",
      "Enter:valar\n",
      "Not an Anangram\n"
     ]
    }
   ],
   "source": [
    "str1=str(input(\"Enter:\"))\n",
    "str2=str(input(\"Enter:\"))\n",
    "str1 = str1.replace(\" \", \"\").lower()\n",
    "str2 = str2.replace(\" \", \"\").lower()\n",
    "if(sorted(str1)==sorted(str2)):\n",
    "    print(\"Anagram\")\n",
    "else:\n",
    "    print(\"Not an Anangram\")\n",
    "\n"
   ]
  },
  {
   "cell_type": "code",
   "execution_count": 13,
   "metadata": {},
   "outputs": [],
   "source": [
    "def Vowlescount():\n",
    "    s=str(input(\"Enter You value: \"))\n",
    "    vowels = \"aeiouAEIOU\"\n",
    "    count = 0\n",
    "    for char in s:\n",
    "        if char in vowels:\n",
    "            count += 1 \n",
    "    print(\"Count of Vowel is\"+   str(count))\n",
    "    return count\n",
    "        \n",
    "    \n",
    "\n"
   ]
  },
  {
   "cell_type": "code",
   "execution_count": 14,
   "metadata": {},
   "outputs": [
    {
     "name": "stdout",
     "output_type": "stream",
     "text": [
      "Enter You value: Hope\n",
      "Count of Vowel is2\n"
     ]
    },
    {
     "data": {
      "text/plain": [
       "2"
      ]
     },
     "execution_count": 14,
     "metadata": {},
     "output_type": "execute_result"
    }
   ],
   "source": [
    "Vowlescount()"
   ]
  },
  {
   "cell_type": "code",
   "execution_count": 10,
   "metadata": {},
   "outputs": [],
   "source": [
    "def Reversesen():\n",
    "    sen=str(input(\"Enter the desired sentence:\"))\n",
    "    words = sen.split()\n",
    "    print(' '.join(words))\n",
    "    rev=words[::-1] \n",
    "    print(' '.join(rev))"
   ]
  },
  {
   "cell_type": "code",
   "execution_count": 11,
   "metadata": {},
   "outputs": [
    {
     "name": "stdout",
     "output_type": "stream",
     "text": [
      "Enter the desired sentence:Vihaana is a good girl\n",
      "Vihaana is a good girl\n",
      "girl good a is Vihaana\n"
     ]
    }
   ],
   "source": [
    "Reversesen()\n"
   ]
  },
  {
   "cell_type": "code",
   "execution_count": 17,
   "metadata": {},
   "outputs": [],
   "source": [
    "def find_missing_number():\n",
    "    nums=[1, 2, 4, 5, 6]\n",
    "    n = len(nums) + 1\n",
    "    print(n)\n",
    "    expected_sum = n * (n + 1) // 2\n",
    "    print(expected_sum)\n",
    "    actual_sum = sum(nums)\n",
    "    print(actual_sum)\n",
    "    print(\"Missing number: \"+ str(expected_sum - actual_sum))\n"
   ]
  },
  {
   "cell_type": "code",
   "execution_count": 18,
   "metadata": {},
   "outputs": [
    {
     "name": "stdout",
     "output_type": "stream",
     "text": [
      "6\n",
      "21\n",
      "18\n",
      "Missing number: 3\n"
     ]
    }
   ],
   "source": [
    "find_missing_number()\n"
   ]
  },
  {
   "cell_type": "code",
   "execution_count": 19,
   "metadata": {},
   "outputs": [],
   "source": [
    "def ATMmachinecheck():\n",
    "    avlbalance=23568\n",
    "    wdlamt=int(input(\"Enter the amount to withdraw: \"))\n",
    "    if(wdlamt>avlbalance):\n",
    "        print(\"Insufficient fund in the account\")\n",
    "    else:\n",
    "        print(\"Transaction successfull\")\n",
    "    "
   ]
  },
  {
   "cell_type": "code",
   "execution_count": 20,
   "metadata": {},
   "outputs": [
    {
     "name": "stdout",
     "output_type": "stream",
     "text": [
      "Enter the amount to withdraw: 45823\n",
      "Insufficient fund in the account\n"
     ]
    }
   ],
   "source": [
    "ATMmachinecheck()"
   ]
  },
  {
   "cell_type": "code",
   "execution_count": 27,
   "metadata": {},
   "outputs": [],
   "source": [
    "def dupvalcheck():\n",
    "    nums=[34,56,34,67,23]\n",
    "    if(len(nums)!=len(set(nums))):\n",
    "       # print(set(nums))\n",
    "        print(\"Duplicate is present\")\n"
   ]
  },
  {
   "cell_type": "code",
   "execution_count": 28,
   "metadata": {},
   "outputs": [
    {
     "name": "stdout",
     "output_type": "stream",
     "text": [
      "Duplicate is present\n"
     ]
    }
   ],
   "source": [
    "dupvalcheck()"
   ]
  },
  {
   "cell_type": "code",
   "execution_count": 37,
   "metadata": {},
   "outputs": [
    {
     "name": "stdout",
     "output_type": "stream",
     "text": [
      "15\n"
     ]
    }
   ],
   "source": [
    "number=12345\n",
    "print(sum(int(digit) for digit in str(abs(number))))\n"
   ]
  },
  {
   "cell_type": "code",
   "execution_count": 42,
   "metadata": {},
   "outputs": [
    {
     "name": "stdout",
     "output_type": "stream",
     "text": [
      "False\n"
     ]
    }
   ],
   "source": [
    "import string\n",
    "givensen=\"Valar\"\n",
    "alphabet = set(string.ascii_lowercase)\n",
    "PanagramCheck = alphabet.issubset(str(givensen))\n",
    "print(PanagramCheck)"
   ]
  },
  {
   "cell_type": "code",
   "execution_count": null,
   "metadata": {},
   "outputs": [],
   "source": []
  }
 ],
 "metadata": {
  "kernelspec": {
   "display_name": "Python 3",
   "language": "python",
   "name": "python3"
  },
  "language_info": {
   "codemirror_mode": {
    "name": "ipython",
    "version": 3
   },
   "file_extension": ".py",
   "mimetype": "text/x-python",
   "name": "python",
   "nbconvert_exporter": "python",
   "pygments_lexer": "ipython3",
   "version": "3.7.4"
  }
 },
 "nbformat": 4,
 "nbformat_minor": 2
}
