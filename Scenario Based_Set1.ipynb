{
 "cells": [
  {
   "cell_type": "code",
   "execution_count": 2,
   "metadata": {},
   "outputs": [
    {
     "name": "stdout",
     "output_type": "stream",
     "text": [
      "The largest number is: 589\n"
     ]
    }
   ],
   "source": [
    "numbers = [132, 145, 78, 324, 589, 23]\n",
    "largest = max(numbers)\n",
    "print(\"The largest number is:\", largest)\n",
    "\n",
    "    "
   ]
  },
  {
   "cell_type": "code",
   "execution_count": 4,
   "metadata": {},
   "outputs": [
    {
     "name": "stdout",
     "output_type": "stream",
     "text": [
      "Enter your age23\n",
      "Eligible to vote\n"
     ]
    }
   ],
   "source": [
    "Age=int(input(\"Enter your age\"))\n",
    "if(Age<18):\n",
    "    print(\"Not Eligible to vote\")\n",
    "else:\n",
    "    print(\"Eligible to vote\")"
   ]
  },
  {
   "cell_type": "code",
   "execution_count": 14,
   "metadata": {},
   "outputs": [],
   "source": [
    "def BonusCalculation():\n",
    "    Salary=int(input(\"Enter your Salary:\"))\n",
    "    if(Salary>=50000):\n",
    "        bonus=(Salary*10)/100\n",
    "        print(\"Your bonus\",bonus)\n",
    "        return(bonus)\n",
    "    else:\n",
    "        bonus=0\n",
    "        print(\"Your bonus\",bonus)\n",
    "        return(bonus)"
   ]
  },
  {
   "cell_type": "code",
   "execution_count": 15,
   "metadata": {},
   "outputs": [
    {
     "name": "stdout",
     "output_type": "stream",
     "text": [
      "Enter your Salary:124000\n",
      "Your bonus 12400.0\n"
     ]
    },
    {
     "data": {
      "text/plain": [
       "12400.0"
      ]
     },
     "execution_count": 15,
     "metadata": {},
     "output_type": "execute_result"
    }
   ],
   "source": [
    "BonusCalculation()"
   ]
  },
  {
   "cell_type": "code",
   "execution_count": 16,
   "metadata": {},
   "outputs": [
    {
     "name": "stdout",
     "output_type": "stream",
     "text": [
      "Enter a word or sentence: Yeshwanth Mithran\n",
      "Reversed version: narhtiM htnawhseY\n"
     ]
    }
   ],
   "source": [
    "text = input(\"Enter a word or sentence: \")\n",
    "reversed_text = text[::-1]\n",
    "print(\"Reversed version:\", reversed_text)\n"
   ]
  },
  {
   "cell_type": "code",
   "execution_count": 20,
   "metadata": {},
   "outputs": [],
   "source": [
    "def Result():\n",
    "    Mark = int(input(\"Enter the mark: \"))\n",
    "    if Mark >= 40:\n",
    "        print(\"Pass\")\n",
    "        return \"Pass\"\n",
    "    else:\n",
    "        print(\"Fail\")\n",
    "        return \"Fail\"\n"
   ]
  },
  {
   "cell_type": "code",
   "execution_count": 21,
   "metadata": {},
   "outputs": [
    {
     "name": "stdout",
     "output_type": "stream",
     "text": [
      "Enter the mark: 34\n",
      "Fail\n"
     ]
    },
    {
     "data": {
      "text/plain": [
       "'Fail'"
      ]
     },
     "execution_count": 21,
     "metadata": {},
     "output_type": "execute_result"
    }
   ],
   "source": [
    "Result()"
   ]
  },
  {
   "cell_type": "code",
   "execution_count": 34,
   "metadata": {},
   "outputs": [
    {
     "name": "stdout",
     "output_type": "stream",
     "text": [
      "Your total Bill ampunt:  271\n",
      "Your discount 54.2\n",
      "Your FinalBill = 216.8\n"
     ]
    }
   ],
   "source": [
    "order=[40,23,45,65,98]\n",
    "total=sum(order)\n",
    "print(\"Your total Bill ampunt: \",total)\n",
    "discount=(total*20)/100\n",
    "print(\"Your discount\",discount)\n",
    "print(\"Your FinalBill =\",total-discount) "
   ]
  },
  {
   "cell_type": "code",
   "execution_count": 42,
   "metadata": {},
   "outputs": [],
   "source": [
    "def BalanceCehck():\n",
    "    Balance=54908\n",
    "    WithdrawlAmount=int(input(\"Enter the amount: \"))\n",
    "    if (WithdrawlAmount <= Balance):\n",
    "        print(\"Can proceed with withdrawl\")\n",
    "        AvaiBalance=Balance-WithdrawlAmount\n",
    "        print(\"Current Available Balance:\",AvaiBalance)\n",
    "        bal=AvaiBalance\n",
    "        return(AvaiBalance)\n",
    "    else:\n",
    "        print(\"Balance is insufficinet\")\n",
    "\n"
   ]
  },
  {
   "cell_type": "code",
   "execution_count": 44,
   "metadata": {},
   "outputs": [
    {
     "name": "stdout",
     "output_type": "stream",
     "text": [
      "Enter the amount: 34567\n",
      "Can proceed with withdrawl\n",
      "Current Available Balance: 20341\n"
     ]
    },
    {
     "data": {
      "text/plain": [
       "20341"
      ]
     },
     "execution_count": 44,
     "metadata": {},
     "output_type": "execute_result"
    }
   ],
   "source": [
    "BalanceCehck()"
   ]
  },
  {
   "cell_type": "code",
   "execution_count": 50,
   "metadata": {},
   "outputs": [
    {
     "name": "stdout",
     "output_type": "stream",
     "text": [
      "Enter the year: 2020\n",
      "Leap year\n"
     ]
    }
   ],
   "source": [
    "year=int(input(\"Enter the year: \"))\n",
    "if (year % 4 == 0 and year % 100 != 0) or (year % 400 == 0):\n",
    "    print(\"Leap year\")\n",
    "else:\n",
    "    print(\"Not a Leap Year\")\n",
    "    "
   ]
  },
  {
   "cell_type": "code",
   "execution_count": null,
   "metadata": {},
   "outputs": [],
   "source": []
  }
 ],
 "metadata": {
  "kernelspec": {
   "display_name": "Python 3",
   "language": "python",
   "name": "python3"
  },
  "language_info": {
   "codemirror_mode": {
    "name": "ipython",
    "version": 3
   },
   "file_extension": ".py",
   "mimetype": "text/x-python",
   "name": "python",
   "nbconvert_exporter": "python",
   "pygments_lexer": "ipython3",
   "version": "3.7.4"
  }
 },
 "nbformat": 4,
 "nbformat_minor": 2
}
