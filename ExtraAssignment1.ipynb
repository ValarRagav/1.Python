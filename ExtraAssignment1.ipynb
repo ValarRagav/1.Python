{
 "cells": [
  {
   "cell_type": "code",
   "execution_count": 1,
   "metadata": {},
   "outputs": [
    {
     "name": "stdout",
     "output_type": "stream",
     "text": [
      "HopeAI\n"
     ]
    }
   ],
   "source": [
    "print(\"HopeAI\")"
   ]
  },
  {
   "cell_type": "code",
   "execution_count": 2,
   "metadata": {},
   "outputs": [
    {
     "name": "stdout",
     "output_type": "stream",
     "text": [
      "Entyer your Institute Name:HOPE AI\n"
     ]
    },
    {
     "data": {
      "text/plain": [
       "'HOPE AI'"
      ]
     },
     "execution_count": 2,
     "metadata": {},
     "output_type": "execute_result"
    }
   ],
   "source": [
    "input(\"Entyer your Institute Name:\")"
   ]
  },
  {
   "cell_type": "code",
   "execution_count": 3,
   "metadata": {},
   "outputs": [
    {
     "name": "stdout",
     "output_type": "stream",
     "text": [
      "Enter your Name:Raj\n",
      "Enter your Age:15\n",
      "Enter your School Name:Guru School\n",
      "Enter your Degree:B,E CSE\n"
     ]
    },
    {
     "data": {
      "text/plain": [
       "'B,E CSE'"
      ]
     },
     "execution_count": 3,
     "metadata": {},
     "output_type": "execute_result"
    }
   ],
   "source": [
    "str(input(\"Enter your Name:\"))\n",
    "str(input(\"Enter your Age:\"))\n",
    "str(input(\"Enter your School Name:\"))\n",
    "str(input(\"Enter your Degree:\"))"
   ]
  },
  {
   "cell_type": "code",
   "execution_count": 4,
   "metadata": {},
   "outputs": [
    {
     "name": "stdout",
     "output_type": "stream",
     "text": [
      "a= 43\n",
      "b= 34\n",
      "add= 77\n"
     ]
    }
   ],
   "source": [
    "a=43\n",
    "b=34\n",
    "add=a+b\n",
    "print(\"a=\",a)\n",
    "print(\"b=\",b)\n",
    "print(\"add=\",add)"
   ]
  },
  {
   "cell_type": "code",
   "execution_count": 5,
   "metadata": {},
   "outputs": [
    {
     "name": "stdout",
     "output_type": "stream",
     "text": [
      "a= 43\n",
      "b= 34\n",
      "sub= 9\n"
     ]
    }
   ],
   "source": [
    "sub=a-b\n",
    "print(\"a=\",a)\n",
    "print(\"b=\",b)\n",
    "print(\"sub=\",sub)"
   ]
  },
  {
   "cell_type": "code",
   "execution_count": 6,
   "metadata": {},
   "outputs": [
    {
     "name": "stdout",
     "output_type": "stream",
     "text": [
      "a= 63\n",
      "b= 97\n",
      "mul= 6111\n"
     ]
    }
   ],
   "source": [
    "a=63\n",
    "b=97\n",
    "mul=a*b\n",
    "print(\"a=\",a)\n",
    "print(\"b=\",b)\n",
    "print(\"mul=\",mul)"
   ]
  },
  {
   "cell_type": "code",
   "execution_count": 8,
   "metadata": {},
   "outputs": [
    {
     "name": "stdout",
     "output_type": "stream",
     "text": [
      "a= 76\n",
      "b= 31\n",
      "Float Div= 2.4516129032258065\n"
     ]
    }
   ],
   "source": [
    "a=76\n",
    "b=31\n",
    "Div=a/b\n",
    "print(\"a=\",a)\n",
    "print(\"b=\",b)\n",
    "print(\"Float Div=\",Div)"
   ]
  },
  {
   "cell_type": "code",
   "execution_count": 9,
   "metadata": {},
   "outputs": [
    {
     "name": "stdout",
     "output_type": "stream",
     "text": [
      "a= 76\n",
      "b= 31\n",
      "Modulo= 14\n"
     ]
    }
   ],
   "source": [
    "a=76\n",
    "b=31\n",
    "Mod=a%b\n",
    "print(\"a=\",a)\n",
    "print(\"b=\",b)\n",
    "print(\"Modulo=\",Mod)"
   ]
  },
  {
   "cell_type": "code",
   "execution_count": 10,
   "metadata": {},
   "outputs": [
    {
     "name": "stdout",
     "output_type": "stream",
     "text": [
      "a= 4\n",
      "b= 4\n",
      "power= 256\n"
     ]
    }
   ],
   "source": [
    "a=4\n",
    "b=4\n",
    "Pow=a**b\n",
    "print(\"a=\",a)\n",
    "print(\"b=\",b)\n",
    "print(\"power=\",Pow)"
   ]
  },
  {
   "cell_type": "code",
   "execution_count": null,
   "metadata": {},
   "outputs": [],
   "source": []
  }
 ],
 "metadata": {
  "kernelspec": {
   "display_name": "Python 3",
   "language": "python",
   "name": "python3"
  },
  "language_info": {
   "codemirror_mode": {
    "name": "ipython",
    "version": 3
   },
   "file_extension": ".py",
   "mimetype": "text/x-python",
   "name": "python",
   "nbconvert_exporter": "python",
   "pygments_lexer": "ipython3",
   "version": "3.7.4"
  }
 },
 "nbformat": 4,
 "nbformat_minor": 2
}
