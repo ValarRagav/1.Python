{
 "cells": [
  {
   "cell_type": "code",
   "execution_count": 1,
   "metadata": {},
   "outputs": [],
   "source": [
    "def NumCheck():\n",
    "    num=int(input(\"Enter thr number:\"))\n",
    "    if(num>=0):\n",
    "        print(\"Positive\")\n",
    "    else:\n",
    "        print(\"Negative\")"
   ]
  },
  {
   "cell_type": "code",
   "execution_count": 3,
   "metadata": {},
   "outputs": [
    {
     "name": "stdout",
     "output_type": "stream",
     "text": [
      "Enter thr number:-3\n",
      "Negative\n"
     ]
    }
   ],
   "source": [
    "NumCheck()"
   ]
  },
  {
   "cell_type": "code",
   "execution_count": 10,
   "metadata": {},
   "outputs": [
    {
     "name": "stdout",
     "output_type": "stream",
     "text": [
      "11\n"
     ]
    }
   ],
   "source": [
    "list=[1,2,0,8]\n",
    "passcode=sum(list)\n",
    "print(passcode)"
   ]
  },
  {
   "cell_type": "code",
   "execution_count": 11,
   "metadata": {},
   "outputs": [
    {
     "name": "stdout",
     "output_type": "stream",
     "text": [
      "Enter your numerical passcode: 1208\n",
      "Sum of digits: 11\n"
     ]
    }
   ],
   "source": [
    "passcode = int(input(\"Enter your numerical passcode: \"))\n",
    "def sum_of_digits(passcode):\n",
    "    total = 0\n",
    "    for digit in str(passcode):\n",
    "        total += int(digit)\n",
    "    return total\n",
    "digit_sum = sum_of_digits(passcode)\n",
    "print(\"Sum of digits:\", digit_sum)\n"
   ]
  },
  {
   "cell_type": "code",
   "execution_count": 16,
   "metadata": {},
   "outputs": [
    {
     "name": "stdout",
     "output_type": "stream",
     "text": [
      "Enter Trxref#: 67450967\n",
      "76905476\n"
     ]
    }
   ],
   "source": [
    "trxnid = str(input(\"Enter Trxref#: \"))\n",
    "x=trxnid[::-1]\n",
    "print(x)"
   ]
  },
  {
   "cell_type": "code",
   "execution_count": 45,
   "metadata": {},
   "outputs": [
    {
     "name": "stdout",
     "output_type": "stream",
     "text": [
      "Enter your password: valar\n",
      "Strengthened password: ralav\n"
     ]
    }
   ],
   "source": [
    "Pwd = input(\"Enter your password: \")\n",
    "def strengthen_password(password):    \n",
    "    if len(password) < 3:\n",
    "        return password  \n",
    "    return password[-1] + password[1:-1] + password[0]\n",
    "new_password = strengthen_password(Pwd)\n",
    "print(\"Strengthened password:\", new_password)\n"
   ]
  },
  {
   "cell_type": "code",
   "execution_count": 54,
   "metadata": {},
   "outputs": [
    {
     "name": "stdout",
     "output_type": "stream",
     "text": [
      "Enter the number: 23\n",
      "Binary equivalent: 10111\n"
     ]
    }
   ],
   "source": [
    "def decimal_to_binary(n):\n",
    "    return bin(n)[2:]\n",
    "\n",
    "decimal_number = int(input(\"Enter the number: \"))\n",
    "binary_result = decimal_to_binary(decimal_number)\n",
    "print(\"Binary equivalent:\", binary_result)\n"
   ]
  },
  {
   "cell_type": "code",
   "execution_count": 1,
   "metadata": {},
   "outputs": [
    {
     "name": "stdout",
     "output_type": "stream",
     "text": [
      "Enter the sentence: Vihaana is a good girl\n",
      "Longest word: Vihaana\n"
     ]
    }
   ],
   "source": [
    "#longest word in the sentance\n",
    "sentence = str(input(\"Enter the sentence: \"))\n",
    "words = sentence.split()\n",
    "longest = max(words, key=len)\n",
    "print(\"Longest word:\", longest)"
   ]
  },
  {
   "cell_type": "code",
   "execution_count": 2,
   "metadata": {},
   "outputs": [
    {
     "name": "stdout",
     "output_type": "stream",
     "text": [
      "120\n"
     ]
    }
   ],
   "source": [
    "def factorial(n):\n",
    "    result = 1\n",
    "    for i in range(1, n + 1):\n",
    "        result *= i\n",
    "    return result\n",
    "\n",
    "print(factorial(5))"
   ]
  },
  {
   "cell_type": "code",
   "execution_count": 26,
   "metadata": {},
   "outputs": [
    {
     "name": "stdout",
     "output_type": "stream",
     "text": [
      "Enter the number:9474\n",
      "9474 -Number\n",
      "4 -No. of didit\n",
      "9474 -Armcehck\n",
      "Armstrong Number\n"
     ]
    }
   ],
   "source": [
    "number=input(\"Enter the number:\")\n",
    "num=str(number)\n",
    "print(num,\"-Number\")\n",
    "\n",
    "num_digits = len(number)\n",
    "print(num_digits,\"-No. of didit\")\n",
    "\n",
    "ArmstrongNum = sum(int(number) ** num_digits for number in num)\n",
    "print(ArmstrongNum,\"-Armcehck\")\n",
    "if ArmstrongNum==int(num):\n",
    "    print(\"Armstrong Number\")\n",
    "else:\n",
    "    print(\"NOT an Armstrong Number\")\n"
   ]
  },
  {
   "cell_type": "code",
   "execution_count": null,
   "metadata": {},
   "outputs": [],
   "source": []
  },
  {
   "cell_type": "code",
   "execution_count": null,
   "metadata": {},
   "outputs": [],
   "source": []
  }
 ],
 "metadata": {
  "kernelspec": {
   "display_name": "Python 3",
   "language": "python",
   "name": "python3"
  },
  "language_info": {
   "codemirror_mode": {
    "name": "ipython",
    "version": 3
   },
   "file_extension": ".py",
   "mimetype": "text/x-python",
   "name": "python",
   "nbconvert_exporter": "python",
   "pygments_lexer": "ipython3",
   "version": "3.7.4"
  }
 },
 "nbformat": 4,
 "nbformat_minor": 2
}
