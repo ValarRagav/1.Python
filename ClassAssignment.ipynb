{
 "cells": [
  {
   "cell_type": "code",
   "execution_count": 2,
   "metadata": {},
   "outputs": [],
   "source": [
    "class SubfieldsinAI():\n",
    "    def Subfields():\n",
    "        print(\"Subfields in AI are:\\n\")\n",
    "        tuple=('Machine Learning','Neural Network','Vision','Robotics','Speech Processing','Natural Language Processing')\n",
    "        for items in tuple:\n",
    "            print(items)\n"
   ]
  },
  {
   "cell_type": "code",
   "execution_count": 3,
   "metadata": {},
   "outputs": [
    {
     "name": "stdout",
     "output_type": "stream",
     "text": [
      "Subfields in AI are:\n",
      "\n",
      "Machine Learning\n",
      "Neural Network\n",
      "Vision\n",
      "Robotics\n",
      "Speech Processing\n",
      "Natural Language Processing\n"
     ]
    }
   ],
   "source": [
    "SubfieldsinAI.Subfields()"
   ]
  },
  {
   "cell_type": "code",
   "execution_count": 4,
   "metadata": {},
   "outputs": [],
   "source": [
    " class Oddeven():   \n",
    "    def oddeven():\n",
    "        data=int(input(\"Enter your choice\"))\n",
    "        if(data%2)==0:\n",
    "            print(\"Your data is even number\")\n",
    "            choice=\"even\"\n",
    "        else:\n",
    "            print(\"Your data is odd number\")\n",
    "            choice=\"odd\"\n",
    "        return(choice)"
   ]
  },
  {
   "cell_type": "code",
   "execution_count": 5,
   "metadata": {},
   "outputs": [
    {
     "name": "stdout",
     "output_type": "stream",
     "text": [
      "Enter your choice22\n",
      "Your data is even number\n"
     ]
    }
   ],
   "source": [
    "choice=Oddeven.oddeven()"
   ]
  },
  {
   "cell_type": "code",
   "execution_count": 6,
   "metadata": {},
   "outputs": [
    {
     "name": "stdout",
     "output_type": "stream",
     "text": [
      "even\n"
     ]
    }
   ],
   "source": [
    "print(choice)"
   ]
  },
  {
   "cell_type": "code",
   "execution_count": 7,
   "metadata": {},
   "outputs": [],
   "source": [
    "class Eligibilityformarriage():    \n",
    "    def eligibilitycheck():\n",
    "        Gender=str(input(\"Enter your gender:\"))\n",
    "        Age=int(input(\"Enter your age\"))\n",
    "        if(Gender=='Male' and Age>25):\n",
    "            print(\"Eligible\")\n",
    "        elif(Gender=='Female' and Age>21):\n",
    "            print(\"Eligible\")\n",
    "        else:\n",
    "            print(\"Not Eligible\")   \n",
    "    \n"
   ]
  },
  {
   "cell_type": "code",
   "execution_count": 8,
   "metadata": {},
   "outputs": [
    {
     "name": "stdout",
     "output_type": "stream",
     "text": [
      "Enter your gender:Female\n",
      "Enter your age19\n",
      "Not Eligible\n"
     ]
    }
   ],
   "source": [
    "Eligibilityformarriage.eligibilitycheck()"
   ]
  },
  {
   "cell_type": "code",
   "execution_count": 9,
   "metadata": {},
   "outputs": [],
   "source": [
    "class FindPercentage():\n",
    "    def Percentage():\n",
    "        sub1=int(input(\"Enter Sub1 Mark:\"))\n",
    "        sub2=int(input(\"Enter Sub2 Mark:\"))\n",
    "        sub3=int(input(\"Enter Sub3 Mark:\"))\n",
    "        sub4=int(input(\"Enter Sub4 Mark:\"))\n",
    "        sub5=int(input(\"Enter Sub5 Mark:\"))\n",
    "        total=sub1+sub2+sub3+sub4+sub5\n",
    "        percentage=int((total/500)*100)\n",
    "        print(\"Total:\",total)\n",
    "        print(\"Percentage:\",percentage)"
   ]
  },
  {
   "cell_type": "code",
   "execution_count": 10,
   "metadata": {},
   "outputs": [
    {
     "name": "stdout",
     "output_type": "stream",
     "text": [
      "Enter Sub1 Mark:60\n",
      "Enter Sub2 Mark:70\n",
      "Enter Sub3 Mark:80\n",
      "Enter Sub4 Mark:90\n",
      "Enter Sub5 Mark:58\n",
      "Total: 358\n",
      "Percentage: 71\n"
     ]
    }
   ],
   "source": [
    "FindPercentage.Percentage()"
   ]
  },
  {
   "cell_type": "code",
   "execution_count": 11,
   "metadata": {},
   "outputs": [],
   "source": [
    "class Triangle():\n",
    "    def Triangle(h1,h2,b1):\n",
    "        Area=((h1*b1)/2)\n",
    "        Perimeter=(h1+h2+b1)\n",
    "        print(\"Area of the Triangle:\",Area)\n",
    "        print(\"Perimeter of the Triangle:\",Perimeter)"
   ]
  },
  {
   "cell_type": "code",
   "execution_count": 12,
   "metadata": {},
   "outputs": [
    {
     "name": "stdout",
     "output_type": "stream",
     "text": [
      "Area of the Triangle: 150.0\n",
      "Perimeter of the Triangle: 60\n"
     ]
    }
   ],
   "source": [
    "Triangle.Triangle(10,20,30)"
   ]
  },
  {
   "cell_type": "code",
   "execution_count": null,
   "metadata": {},
   "outputs": [],
   "source": []
  }
 ],
 "metadata": {
  "kernelspec": {
   "display_name": "Python 3",
   "language": "python",
   "name": "python3"
  },
  "language_info": {
   "codemirror_mode": {
    "name": "ipython",
    "version": 3
   },
   "file_extension": ".py",
   "mimetype": "text/x-python",
   "name": "python",
   "nbconvert_exporter": "python",
   "pygments_lexer": "ipython3",
   "version": "3.7.4"
  }
 },
 "nbformat": 4,
 "nbformat_minor": 2
}
