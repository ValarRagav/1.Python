{
 "cells": [
  {
   "cell_type": "code",
   "execution_count": 4,
   "metadata": {},
   "outputs": [
    {
     "name": "stdout",
     "output_type": "stream",
     "text": [
      "Enter the value10\n",
      "Correct\n"
     ]
    }
   ],
   "source": [
    "test=int(input(\"Enter the value\"))\n",
    "if(test==10):\n",
    "    print(\"Correct\")"
   ]
  },
  {
   "cell_type": "code",
   "execution_count": 5,
   "metadata": {},
   "outputs": [
    {
     "name": "stdout",
     "output_type": "stream",
     "text": [
      "Enter the PasswordHope@123\n",
      "Your Password is wrong\n"
     ]
    }
   ],
   "source": [
    "password=str(input(\"Enter the Password\"))\n",
    "if (password=='HOPE@123'):\n",
    "    print(\"Your Password is correct\")\n",
    "else:\n",
    "    print(\"Your Password is wrong\")"
   ]
  },
  {
   "cell_type": "code",
   "execution_count": 6,
   "metadata": {},
   "outputs": [
    {
     "name": "stdout",
     "output_type": "stream",
     "text": [
      "Enter your Age:23\n",
      "Adult\n"
     ]
    }
   ],
   "source": [
    "Age=int(input(\"Enter your Age:\"))\n",
    "if(Age<18):\n",
    "    print(\"Chilren\")\n",
    "elif(Age<35):\n",
    "    print(\"Adult\")\n",
    "elif(Age<60):\n",
    "    print(\"Citizen\")\n",
    "else:\n",
    "    print(\"Senior Citizen\")"
   ]
  },
  {
   "cell_type": "code",
   "execution_count": 1,
   "metadata": {},
   "outputs": [
    {
     "name": "stdout",
     "output_type": "stream",
     "text": [
      "Enter the Number:0\n",
      "Number is Zero\n"
     ]
    }
   ],
   "source": [
    "Number=int(input(\"Enter the Number:\"))\n",
    "if(Number>0):\n",
    "    print(\"Number is Positive\")\n",
    "elif(Number<0):\n",
    "    print(\"Number is Negative\")\n",
    "else:\n",
    "    print(\"Number is Zero\")"
   ]
  },
  {
   "cell_type": "code",
   "execution_count": 2,
   "metadata": {},
   "outputs": [
    {
     "name": "stdout",
     "output_type": "stream",
     "text": [
      "Enter the Number24\n",
      "Not divisible by 5\n"
     ]
    }
   ],
   "source": [
    "check=int(input(\"Enter the Number\"))\n",
    "if(check%5)==0:\n",
    "    print(\"Divisible by 5\")\n",
    "else:\n",
    "    print(\"Not divisible by 5\")"
   ]
  },
  {
   "cell_type": "code",
   "execution_count": null,
   "metadata": {},
   "outputs": [],
   "source": []
  }
 ],
 "metadata": {
  "kernelspec": {
   "display_name": "Python 3",
   "language": "python",
   "name": "python3"
  },
  "language_info": {
   "codemirror_mode": {
    "name": "ipython",
    "version": 3
   },
   "file_extension": ".py",
   "mimetype": "text/x-python",
   "name": "python",
   "nbconvert_exporter": "python",
   "pygments_lexer": "ipython3",
   "version": "3.7.4"
  }
 },
 "nbformat": 4,
 "nbformat_minor": 2
}
