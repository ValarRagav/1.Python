{
 "cells": [
  {
   "cell_type": "code",
   "execution_count": 6,
   "metadata": {},
   "outputs": [],
   "source": [
    "def Subfields():\n",
    "    print(\"Subfields in AI are:\\n\")\n",
    "    tuple=('Machine Learning','Neural Network','Vision','Robotics','Speech Processing','Natural Language Processing')\n",
    "    for items in tuple:\n",
    "        print(items)\n"
   ]
  },
  {
   "cell_type": "code",
   "execution_count": 7,
   "metadata": {},
   "outputs": [
    {
     "name": "stdout",
     "output_type": "stream",
     "text": [
      "Subfields in AI are:\n",
      "\n",
      "Machine Learning\n",
      "Neural Network\n",
      "Vision\n",
      "Robotics\n",
      "Speech Processing\n",
      "Natural Language Processing\n"
     ]
    }
   ],
   "source": [
    "Subfields()"
   ]
  },
  {
   "cell_type": "code",
   "execution_count": 8,
   "metadata": {},
   "outputs": [],
   "source": [
    "def oddeven():\n",
    "    data=int(input(\"Enter your choice\"))\n",
    "    if(data%2)==0:\n",
    "        print(\"Your data is even number\")\n",
    "        choice=\"even\"\n",
    "    else:\n",
    "        print(\"Your data is odd number\")\n",
    "        choice=\"odd\"\n",
    "    return(choice)"
   ]
  },
  {
   "cell_type": "code",
   "execution_count": 9,
   "metadata": {},
   "outputs": [
    {
     "name": "stdout",
     "output_type": "stream",
     "text": [
      "Enter your choice34\n",
      "Your data is even number\n"
     ]
    }
   ],
   "source": [
    "choice=oddeven()"
   ]
  },
  {
   "cell_type": "code",
   "execution_count": 10,
   "metadata": {},
   "outputs": [
    {
     "name": "stdout",
     "output_type": "stream",
     "text": [
      "even\n"
     ]
    }
   ],
   "source": [
    "print(choice)"
   ]
  },
  {
   "cell_type": "code",
   "execution_count": 11,
   "metadata": {},
   "outputs": [],
   "source": [
    "def eligibilitycheck():\n",
    "    Gender=str(input(\"Enter your gender:\"))\n",
    "    Age=int(input(\"Enter your age\"))\n",
    "    if(Gender=='Male' and Age>25):\n",
    "        print(\"Eligible\")\n",
    "    elif(Gender=='Female' and Age>21):\n",
    "        print(\"Eligible\")\n",
    "    else:\n",
    "        print(\"Not Eligible\")   \n",
    "    \n"
   ]
  },
  {
   "cell_type": "code",
   "execution_count": 12,
   "metadata": {},
   "outputs": [
    {
     "name": "stdout",
     "output_type": "stream",
     "text": [
      "Enter your gender:Female\n",
      "Enter your age16\n",
      "Not Eligible\n"
     ]
    }
   ],
   "source": [
    "eligibilitycheck()"
   ]
  },
  {
   "cell_type": "code",
   "execution_count": 3,
   "metadata": {},
   "outputs": [],
   "source": [
    "def Percentage():\n",
    "    sub1=int(input(\"Enter Sub1 Mark:\"))\n",
    "    sub2=int(input(\"Enter Sub2 Mark:\"))\n",
    "    sub3=int(input(\"Enter Sub3 Mark:\"))\n",
    "    sub4=int(input(\"Enter Sub4 Mark:\"))\n",
    "    sub5=int(input(\"Enter Sub5 Mark:\"))\n",
    "    total=sub1+sub2+sub3+sub4+sub5\n",
    "    percentage=int((total/500)*100)\n",
    "    print(\"Total:\",total)\n",
    "    print(\"Percentage:\",percentage)"
   ]
  },
  {
   "cell_type": "code",
   "execution_count": 4,
   "metadata": {},
   "outputs": [
    {
     "name": "stdout",
     "output_type": "stream",
     "text": [
      "Enter Sub1 Mark:40\n",
      "Enter Sub2 Mark:40\n",
      "Enter Sub3 Mark:40\n",
      "Enter Sub4 Mark:40\n",
      "Enter Sub5 Mark:40\n",
      "Total: 200\n",
      "Percentage: 40\n"
     ]
    }
   ],
   "source": [
    "Percentage()"
   ]
  },
  {
   "cell_type": "code",
   "execution_count": 14,
   "metadata": {},
   "outputs": [],
   "source": [
    "def Triangle(h1,h2,b1):\n",
    "    Area=((h1*b1)/2)\n",
    "    Perimeter=(h1+h2+b1)\n",
    "    print(\"Area of the Triangle:\",Area)\n",
    "    print(\"Perimeter of the Triangle:\",Perimeter)"
   ]
  },
  {
   "cell_type": "code",
   "execution_count": 15,
   "metadata": {},
   "outputs": [
    {
     "name": "stdout",
     "output_type": "stream",
     "text": [
      "Area of the Triangle: 150.0\n",
      "Perimeter of the Triangle: 60\n"
     ]
    }
   ],
   "source": [
    "Triangle(10,20,30)"
   ]
  },
  {
   "cell_type": "code",
   "execution_count": null,
   "metadata": {},
   "outputs": [],
   "source": []
  }
 ],
 "metadata": {
  "kernelspec": {
   "display_name": "Python 3",
   "language": "python",
   "name": "python3"
  },
  "language_info": {
   "codemirror_mode": {
    "name": "ipython",
    "version": 3
   },
   "file_extension": ".py",
   "mimetype": "text/x-python",
   "name": "python",
   "nbconvert_exporter": "python",
   "pygments_lexer": "ipython3",
   "version": "3.7.4"
  }
 },
 "nbformat": 4,
 "nbformat_minor": 2
}
